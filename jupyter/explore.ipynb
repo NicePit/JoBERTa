{
 "cells": [
  {
   "cell_type": "code",
   "execution_count": 178,
   "metadata": {},
   "outputs": [],
   "source": [
    "import pandas as pd\n",
    "import numpy as np\n",
    "import matplotlib.pyplot as plt\n",
    "import pathlib\n",
    "import os\n",
    "from collections import Counter\n",
    "import re\n",
    "\n",
    "%matplotlib inline"
   ]
  },
  {
   "cell_type": "code",
   "execution_count": 179,
   "metadata": {},
   "outputs": [
    {
     "name": "stdout",
     "output_type": "stream",
     "text": [
      "Defaulting to user installation because normal site-packages is not writeable\n",
      "Requirement already satisfied: langdetect in /home/stanislav/.local/lib/python3.6/site-packages (1.0.8)\n",
      "Requirement already satisfied: six in /home/stanislav/.local/lib/python3.6/site-packages (from langdetect) (1.14.0)\n",
      "\u001b[33mWARNING: You are using pip version 20.0.2; however, version 20.1 is available.\n",
      "You should consider upgrading via the '/usr/bin/python3 -m pip install --upgrade pip' command.\u001b[0m\n"
     ]
    }
   ],
   "source": [
    "!pip install langdetect\n",
    "from langdetect import detect"
   ]
  },
  {
   "cell_type": "code",
   "execution_count": 180,
   "metadata": {},
   "outputs": [
    {
     "data": {
      "text/plain": [
       "'/home/stanislav/my_projects/JoBERTa/scrapers/data.json'"
      ]
     },
     "execution_count": 180,
     "metadata": {},
     "output_type": "execute_result"
    }
   ],
   "source": [
    "data_path = '../scrapers/data.json'\n",
    "data_path = os.path.abspath(os.path.join(data_path))\n",
    "data_path"
   ]
  },
  {
   "cell_type": "code",
   "execution_count": 181,
   "metadata": {},
   "outputs": [
    {
     "data": {
      "text/plain": [
       "(480, 5)"
      ]
     },
     "execution_count": 181,
     "metadata": {},
     "output_type": "execute_result"
    }
   ],
   "source": [
    "# df = pd.read_json(data_path).drop_duplicates(inplace=False,subset='url')\n",
    "df = pd.read_json(data_path)\n",
    "df['published'] = df['published'].apply(lambda x: int(re.match('\\d+',x)[0]))\n",
    "df = df.sort_values(by='published')\n",
    "df.shape"
   ]
  },
  {
   "cell_type": "code",
   "execution_count": 182,
   "metadata": {},
   "outputs": [
    {
     "data": {
      "text/html": [
       "<div>\n",
       "<style scoped>\n",
       "    .dataframe tbody tr th:only-of-type {\n",
       "        vertical-align: middle;\n",
       "    }\n",
       "\n",
       "    .dataframe tbody tr th {\n",
       "        vertical-align: top;\n",
       "    }\n",
       "\n",
       "    .dataframe thead th {\n",
       "        text-align: right;\n",
       "    }\n",
       "</style>\n",
       "<table border=\"1\" class=\"dataframe\">\n",
       "  <thead>\n",
       "    <tr style=\"text-align: right;\">\n",
       "      <th></th>\n",
       "      <th>title</th>\n",
       "      <th>published</th>\n",
       "      <th>easy_apply</th>\n",
       "      <th>url</th>\n",
       "      <th>description</th>\n",
       "    </tr>\n",
       "  </thead>\n",
       "  <tbody>\n",
       "    <tr>\n",
       "      <th>479</th>\n",
       "      <td>Software Engineer</td>\n",
       "      <td>1</td>\n",
       "      <td>False</td>\n",
       "      <td>https://www.glassdoor.com/job-listing/software...</td>\n",
       "      <td>PayPal Global Data Science implements unique f...</td>\n",
       "    </tr>\n",
       "    <tr>\n",
       "      <th>230</th>\n",
       "      <td>Machine Learning Software Engineer</td>\n",
       "      <td>1</td>\n",
       "      <td>False</td>\n",
       "      <td>https://www.glassdoor.com/job-listing/machine-...</td>\n",
       "      <td>מיקום: ת\"א והמרכז\\n\\nתיאור המשרה:\\n\\nאנחנו ממש...</td>\n",
       "    </tr>\n",
       "    <tr>\n",
       "      <th>177</th>\n",
       "      <td>Senior Data Science</td>\n",
       "      <td>1</td>\n",
       "      <td>False</td>\n",
       "      <td>https://www.glassdoor.com/job-listing/senior-d...</td>\n",
       "      <td>מיקום: ת\"א והמרכז\\n\\nתיאור המשרה:\\n\\nלכל ה-Dat...</td>\n",
       "    </tr>\n",
       "    <tr>\n",
       "      <th>361</th>\n",
       "      <td>Applied Researcher</td>\n",
       "      <td>1</td>\n",
       "      <td>False</td>\n",
       "      <td>https://www.glassdoor.com/job-listing/applied-...</td>\n",
       "      <td>About eBay\\n\\nWith more than 100 million activ...</td>\n",
       "    </tr>\n",
       "    <tr>\n",
       "      <th>244</th>\n",
       "      <td>Machine Learning Software Engineer</td>\n",
       "      <td>1</td>\n",
       "      <td>True</td>\n",
       "      <td>https://www.glassdoor.com/job-listing/machine-...</td>\n",
       "      <td>About BigPanda:\\n\\nBigPanda helps NOC and Oper...</td>\n",
       "    </tr>\n",
       "    <tr>\n",
       "      <th>415</th>\n",
       "      <td>Data Engineer</td>\n",
       "      <td>1</td>\n",
       "      <td>False</td>\n",
       "      <td>https://www.glassdoor.com/job-listing/data-eng...</td>\n",
       "      <td>Moon Active is one of the world's fastest-grow...</td>\n",
       "    </tr>\n",
       "    <tr>\n",
       "      <th>171</th>\n",
       "      <td>Data Engineer לחברת סטארטאפ</td>\n",
       "      <td>1</td>\n",
       "      <td>False</td>\n",
       "      <td>https://www.glassdoor.com/job-listing/data-eng...</td>\n",
       "      <td>מיקום: ת\"א והמרכז\\n\\nתיאור המשרה:\\n\\nסטארטאפ י...</td>\n",
       "    </tr>\n",
       "    <tr>\n",
       "      <th>450</th>\n",
       "      <td>Machine Learning/Deep Learning algorithms</td>\n",
       "      <td>1</td>\n",
       "      <td>False</td>\n",
       "      <td>https://www.glassdoor.com/job-listing/machine-...</td>\n",
       "      <td>We are looking for a motivated, fast learner a...</td>\n",
       "    </tr>\n",
       "    <tr>\n",
       "      <th>155</th>\n",
       "      <td>Senior Data analyst לחברה מצליחה העוסקת בתחום ...</td>\n",
       "      <td>1</td>\n",
       "      <td>False</td>\n",
       "      <td>https://www.glassdoor.com/job-listing/senior-d...</td>\n",
       "      <td>מיקום: ת\"א והמרכז\\n\\nתיאור המשרה:\\n\\nאנו מחפשי...</td>\n",
       "    </tr>\n",
       "    <tr>\n",
       "      <th>3</th>\n",
       "      <td>Software Engineer</td>\n",
       "      <td>1</td>\n",
       "      <td>False</td>\n",
       "      <td>https://www.glassdoor.com/job-listing/software...</td>\n",
       "      <td>Job ID: 85014\\n\\nRequired Travel :Minimal\\n\\nM...</td>\n",
       "    </tr>\n",
       "  </tbody>\n",
       "</table>\n",
       "</div>"
      ],
      "text/plain": [
       "                                                 title  published  easy_apply  \\\n",
       "479                                  Software Engineer          1       False   \n",
       "230                 Machine Learning Software Engineer          1       False   \n",
       "177                                Senior Data Science          1       False   \n",
       "361                                 Applied Researcher          1       False   \n",
       "244                 Machine Learning Software Engineer          1        True   \n",
       "415                                      Data Engineer          1       False   \n",
       "171                        Data Engineer לחברת סטארטאפ          1       False   \n",
       "450          Machine Learning/Deep Learning algorithms          1       False   \n",
       "155  Senior Data analyst לחברה מצליחה העוסקת בתחום ...          1       False   \n",
       "3                                    Software Engineer          1       False   \n",
       "\n",
       "                                                   url  \\\n",
       "479  https://www.glassdoor.com/job-listing/software...   \n",
       "230  https://www.glassdoor.com/job-listing/machine-...   \n",
       "177  https://www.glassdoor.com/job-listing/senior-d...   \n",
       "361  https://www.glassdoor.com/job-listing/applied-...   \n",
       "244  https://www.glassdoor.com/job-listing/machine-...   \n",
       "415  https://www.glassdoor.com/job-listing/data-eng...   \n",
       "171  https://www.glassdoor.com/job-listing/data-eng...   \n",
       "450  https://www.glassdoor.com/job-listing/machine-...   \n",
       "155  https://www.glassdoor.com/job-listing/senior-d...   \n",
       "3    https://www.glassdoor.com/job-listing/software...   \n",
       "\n",
       "                                           description  \n",
       "479  PayPal Global Data Science implements unique f...  \n",
       "230  מיקום: ת\"א והמרכז\\n\\nתיאור המשרה:\\n\\nאנחנו ממש...  \n",
       "177  מיקום: ת\"א והמרכז\\n\\nתיאור המשרה:\\n\\nלכל ה-Dat...  \n",
       "361  About eBay\\n\\nWith more than 100 million activ...  \n",
       "244  About BigPanda:\\n\\nBigPanda helps NOC and Oper...  \n",
       "415  Moon Active is one of the world's fastest-grow...  \n",
       "171  מיקום: ת\"א והמרכז\\n\\nתיאור המשרה:\\n\\nסטארטאפ י...  \n",
       "450  We are looking for a motivated, fast learner a...  \n",
       "155  מיקום: ת\"א והמרכז\\n\\nתיאור המשרה:\\n\\nאנו מחפשי...  \n",
       "3    Job ID: 85014\\n\\nRequired Travel :Minimal\\n\\nM...  "
      ]
     },
     "execution_count": 182,
     "metadata": {},
     "output_type": "execute_result"
    }
   ],
   "source": [
    "df.head(10)"
   ]
  },
  {
   "cell_type": "code",
   "execution_count": 183,
   "metadata": {},
   "outputs": [
    {
     "name": "stdout",
     "output_type": "stream",
     "text": [
      "<class 'pandas.core.frame.DataFrame'>\n",
      "Int64Index: 480 entries, 479 to 197\n",
      "Data columns (total 5 columns):\n",
      " #   Column       Non-Null Count  Dtype \n",
      "---  ------       --------------  ----- \n",
      " 0   title        473 non-null    object\n",
      " 1   published    480 non-null    int64 \n",
      " 2   easy_apply   480 non-null    bool  \n",
      " 3   url          480 non-null    object\n",
      " 4   description  480 non-null    object\n",
      "dtypes: bool(1), int64(1), object(3)\n",
      "memory usage: 19.2+ KB\n"
     ]
    }
   ],
   "source": [
    "df.info()\n"
   ]
  },
  {
   "cell_type": "code",
   "execution_count": 184,
   "metadata": {},
   "outputs": [
    {
     "data": {
      "text/plain": [
       "(363, 6)"
      ]
     },
     "execution_count": 184,
     "metadata": {},
     "output_type": "execute_result"
    }
   ],
   "source": [
    "def detect_language(text):\n",
    "    try:\n",
    "        return detect(text)\n",
    "    except:\n",
    "        return None\n",
    "    \n",
    "df['language'] = df['description'].apply(lambda x: detect_language(x))\n",
    "df = df[df['language']=='en']\n",
    "df.shape"
   ]
  },
  {
   "cell_type": "code",
   "execution_count": 185,
   "metadata": {},
   "outputs": [
    {
     "data": {
      "text/plain": [
       "[('Data Scientist', 174),\n",
       " ('Data Engineer', 25),\n",
       " ('Machine Learning Engineer', 20),\n",
       " ('Software Engineer', 18),\n",
       " ('Lead Data Scientist', 9),\n",
       " ('Cyber Data Scientist', 7),\n",
       " ('Machine Learning Software Engineer', 3),\n",
       " ('Big Data Engineer', 3),\n",
       " ('Data Engineer Team Leader', 3),\n",
       " ('Quantitative Researcher', 3),\n",
       " ('Senior Big Data Engineer', 3),\n",
       " ('Software Engineer (Future Hire)', 3),\n",
       " ('Python Developer', 2),\n",
       " ('Vulnerability Researcher', 2),\n",
       " ('Researcher', 2)]"
      ]
     },
     "execution_count": 185,
     "metadata": {},
     "output_type": "execute_result"
    }
   ],
   "source": [
    "MOST_COMMON = 15\n",
    "\n",
    "positions = Counter(df['title'])\n",
    "positions.most_common(MOST_COMMON)"
   ]
  },
  {
   "cell_type": "code",
   "execution_count": 177,
   "metadata": {},
   "outputs": [
    {
     "data": {
      "text/plain": [
       "([0, 1, 2, 3, 4, 5, 6, 7, 8, 9, 10, 11, 12, 13, 14],\n",
       " <a list of 15 Text xticklabel objects>)"
      ]
     },
     "execution_count": 177,
     "metadata": {},
     "output_type": "execute_result"
    },
    {
     "data": {
      "image/png": "[encoded data removed]",
      "text/plain": [
       "<Figure size 720x432 with 1 Axes>"
      ]
     },
     "metadata": {
      "needs_background": "light"
     },
     "output_type": "display_data"
    }
   ],
   "source": [
    "fig, ax = plt.subplots(figsize=(10, 6))\n",
    "ax.bar(x=[_[0] for _ in positions.most_common(MOST_COMMON)],height=[_[1] for _ in positions.most_common(MOST_COMMON)])\n",
    "plt.xticks(rotation=70)"
   ]
  },
  {
   "cell_type": "code",
   "execution_count": null,
   "metadata": {},
   "outputs": [],
   "source": []
  }
 ],
 "metadata": {
  "kernelspec": {
   "display_name": "Python 3",
   "language": "python",
   "name": "python3"
  },
  "language_info": {
   "codemirror_mode": {
    "name": "ipython",
    "version": 3
   },
   "file_extension": ".py",
   "mimetype": "text/x-python",
   "name": "python",
   "nbconvert_exporter": "python",
   "pygments_lexer": "ipython3",
   "version": "3.6.9"
  }
 },
 "nbformat": 4,
 "nbformat_minor": 4
}
