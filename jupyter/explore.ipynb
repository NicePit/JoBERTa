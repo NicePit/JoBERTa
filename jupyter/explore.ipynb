{
 "cells": [
  {
   "cell_type": "code",
   "execution_count": 105,
   "metadata": {},
   "outputs": [],
   "source": [
    "import pandas as pd\n",
    "import numpy as np\n",
    "import matplotlib.pyplot as plt\n",
    "import pathlib\n",
    "import os\n",
    "from collections import Counter\n",
    "import re\n",
    "\n",
    "%matplotlib inline"
   ]
  },
  {
   "cell_type": "code",
   "execution_count": 106,
   "metadata": {},
   "outputs": [
    {
     "name": "stdout",
     "output_type": "stream",
     "text": [
      "Defaulting to user installation because normal site-packages is not writeable\n",
      "Requirement already satisfied: langdetect in /home/stanislav/.local/lib/python3.6/site-packages (1.0.8)\n",
      "Requirement already satisfied: six in /home/stanislav/.local/lib/python3.6/site-packages (from langdetect) (1.14.0)\n",
      "\u001b[33mWARNING: You are using pip version 20.0.2; however, version 20.1 is available.\n",
      "You should consider upgrading via the '/usr/bin/python3 -m pip install --upgrade pip' command.\u001b[0m\n"
     ]
    }
   ],
   "source": [
    "!pip install langdetect\n",
    "from langdetect import detect"
   ]
  },
  {
   "cell_type": "code",
   "execution_count": 110,
   "metadata": {},
   "outputs": [
    {
     "data": {
      "text/plain": [
       "'/home/stanislav/my_projects/JoBERTa/scrapers/data.json'"
      ]
     },
     "execution_count": 110,
     "metadata": {},
     "output_type": "execute_result"
    }
   ],
   "source": [
    "data_path = '../scrapers/data.json'\n",
    "data_path = os.path.abspath(os.path.join(data_path))\n",
    "data_path"
   ]
  },
  {
   "cell_type": "code",
   "execution_count": 119,
   "metadata": {},
   "outputs": [
    {
     "data": {
      "text/html": [
       "<div>\n",
       "<style scoped>\n",
       "    .dataframe tbody tr th:only-of-type {\n",
       "        vertical-align: middle;\n",
       "    }\n",
       "\n",
       "    .dataframe tbody tr th {\n",
       "        vertical-align: top;\n",
       "    }\n",
       "\n",
       "    .dataframe thead th {\n",
       "        text-align: right;\n",
       "    }\n",
       "</style>\n",
       "<table border=\"1\" class=\"dataframe\">\n",
       "  <thead>\n",
       "    <tr style=\"text-align: right;\">\n",
       "      <th></th>\n",
       "      <th>title</th>\n",
       "      <th>published</th>\n",
       "      <th>easy_apply</th>\n",
       "      <th>url</th>\n",
       "      <th>description</th>\n",
       "    </tr>\n",
       "  </thead>\n",
       "  <tbody>\n",
       "    <tr>\n",
       "      <th>105</th>\n",
       "      <td>Data Scientist</td>\n",
       "      <td>2</td>\n",
       "      <td>False</td>\n",
       "      <td>https://www.glassdoor.com/job-listing/data-sci...</td>\n",
       "      <td>Explorium is a cutting-edge data science compa...</td>\n",
       "    </tr>\n",
       "    <tr>\n",
       "      <th>202</th>\n",
       "      <td>None</td>\n",
       "      <td>2</td>\n",
       "      <td>False</td>\n",
       "      <td>https://www.glassdoor.com/job-listing/data-sci...</td>\n",
       "      <td></td>\n",
       "    </tr>\n",
       "    <tr>\n",
       "      <th>58</th>\n",
       "      <td>Data Scientist</td>\n",
       "      <td>2</td>\n",
       "      <td>False</td>\n",
       "      <td>https://www.glassdoor.com/job-listing/data-sci...</td>\n",
       "      <td>Explorium is a cutting-edge data science compa...</td>\n",
       "    </tr>\n",
       "    <tr>\n",
       "      <th>318</th>\n",
       "      <td>Data Scientist</td>\n",
       "      <td>2</td>\n",
       "      <td>False</td>\n",
       "      <td>https://www.glassdoor.com/job-listing/data-sci...</td>\n",
       "      <td>Explorium is a cutting-edge data science compa...</td>\n",
       "    </tr>\n",
       "    <tr>\n",
       "      <th>90</th>\n",
       "      <td>Data Scientist</td>\n",
       "      <td>2</td>\n",
       "      <td>False</td>\n",
       "      <td>https://www.glassdoor.com/job-listing/data-sci...</td>\n",
       "      <td>Explorium is a cutting-edge data science compa...</td>\n",
       "    </tr>\n",
       "    <tr>\n",
       "      <th>172</th>\n",
       "      <td>Data Scientist</td>\n",
       "      <td>2</td>\n",
       "      <td>False</td>\n",
       "      <td>https://www.glassdoor.com/job-listing/data-sci...</td>\n",
       "      <td>Explorium is a cutting-edge data science compa...</td>\n",
       "    </tr>\n",
       "    <tr>\n",
       "      <th>220</th>\n",
       "      <td>Data Scientist</td>\n",
       "      <td>2</td>\n",
       "      <td>False</td>\n",
       "      <td>https://www.glassdoor.com/job-listing/data-sci...</td>\n",
       "      <td>Explorium is a cutting-edge data science compa...</td>\n",
       "    </tr>\n",
       "    <tr>\n",
       "      <th>140</th>\n",
       "      <td>Data Scientist</td>\n",
       "      <td>2</td>\n",
       "      <td>False</td>\n",
       "      <td>https://www.glassdoor.com/job-listing/data-sci...</td>\n",
       "      <td>Explorium is a cutting-edge data science compa...</td>\n",
       "    </tr>\n",
       "    <tr>\n",
       "      <th>367</th>\n",
       "      <td>Data Scientist</td>\n",
       "      <td>2</td>\n",
       "      <td>False</td>\n",
       "      <td>https://www.glassdoor.com/job-listing/data-sci...</td>\n",
       "      <td>Explorium is a cutting-edge data science compa...</td>\n",
       "    </tr>\n",
       "    <tr>\n",
       "      <th>3</th>\n",
       "      <td>Data Scientist</td>\n",
       "      <td>2</td>\n",
       "      <td>False</td>\n",
       "      <td>https://www.glassdoor.com/job-listing/data-sci...</td>\n",
       "      <td>Explorium is a cutting-edge data science compa...</td>\n",
       "    </tr>\n",
       "    <tr>\n",
       "      <th>253</th>\n",
       "      <td>Data Scientist</td>\n",
       "      <td>2</td>\n",
       "      <td>False</td>\n",
       "      <td>https://www.glassdoor.com/job-listing/data-sci...</td>\n",
       "      <td>Explorium is a cutting-edge data science compa...</td>\n",
       "    </tr>\n",
       "    <tr>\n",
       "      <th>349</th>\n",
       "      <td>Data Scientist</td>\n",
       "      <td>2</td>\n",
       "      <td>False</td>\n",
       "      <td>https://www.glassdoor.com/job-listing/data-sci...</td>\n",
       "      <td>Explorium is a cutting-edge data science compa...</td>\n",
       "    </tr>\n",
       "    <tr>\n",
       "      <th>280</th>\n",
       "      <td>Data Scientist</td>\n",
       "      <td>2</td>\n",
       "      <td>False</td>\n",
       "      <td>https://www.glassdoor.com/job-listing/data-sci...</td>\n",
       "      <td>Explorium is a cutting-edge data science compa...</td>\n",
       "    </tr>\n",
       "    <tr>\n",
       "      <th>35</th>\n",
       "      <td>None</td>\n",
       "      <td>3</td>\n",
       "      <td>False</td>\n",
       "      <td>https://www.glassdoor.com/job-listing/%D7%93%D...</td>\n",
       "      <td></td>\n",
       "    </tr>\n",
       "    <tr>\n",
       "      <th>37</th>\n",
       "      <td>דרוש /ה Data Scientist - ללא ניסיון</td>\n",
       "      <td>3</td>\n",
       "      <td>False</td>\n",
       "      <td>https://www.glassdoor.com/job-listing/%D7%93%D...</td>\n",
       "      <td>לחברת אבטחת מידע גדולה ומבוססת, דרוש /ה Data S...</td>\n",
       "    </tr>\n",
       "    <tr>\n",
       "      <th>268</th>\n",
       "      <td>Data Scientist</td>\n",
       "      <td>3</td>\n",
       "      <td>False</td>\n",
       "      <td>https://www.glassdoor.com/job-listing/data-sci...</td>\n",
       "      <td>חברת סטארט-אפ בחזית הטכנולוגיה המפתחת מערכת או...</td>\n",
       "    </tr>\n",
       "    <tr>\n",
       "      <th>297</th>\n",
       "      <td>דרוש /ה Data Scientist - ללא ניסיון</td>\n",
       "      <td>3</td>\n",
       "      <td>False</td>\n",
       "      <td>https://www.glassdoor.com/job-listing/%D7%93%D...</td>\n",
       "      <td>לחברת אבטחת מידע גדולה ומבוססת, דרוש /ה Data S...</td>\n",
       "    </tr>\n",
       "    <tr>\n",
       "      <th>273</th>\n",
       "      <td>דרוש /ה Data Scientist - ללא ניסיון</td>\n",
       "      <td>3</td>\n",
       "      <td>False</td>\n",
       "      <td>https://www.glassdoor.com/job-listing/%D7%93%D...</td>\n",
       "      <td>לחברת אבטחת מידע גדולה ומבוססת, דרוש /ה Data S...</td>\n",
       "    </tr>\n",
       "    <tr>\n",
       "      <th>295</th>\n",
       "      <td>דרוש /ה Data Scientist - ללא ניסיון</td>\n",
       "      <td>3</td>\n",
       "      <td>False</td>\n",
       "      <td>https://www.glassdoor.com/job-listing/%D7%93%D...</td>\n",
       "      <td>לחברת אבטחת מידע גדולה ומבוססת, דרוש /ה Data S...</td>\n",
       "    </tr>\n",
       "    <tr>\n",
       "      <th>169</th>\n",
       "      <td>Data Scientist</td>\n",
       "      <td>3</td>\n",
       "      <td>False</td>\n",
       "      <td>https://www.glassdoor.com/job-listing/data-sci...</td>\n",
       "      <td>חברת סטארט-אפ בחזית הטכנולוגיה המפתחת מערכת או...</td>\n",
       "    </tr>\n",
       "  </tbody>\n",
       "</table>\n",
       "</div>"
      ],
      "text/plain": [
       "                                   title  published  easy_apply  \\\n",
       "105                       Data Scientist          2       False   \n",
       "202                                 None          2       False   \n",
       "58                        Data Scientist          2       False   \n",
       "318                       Data Scientist          2       False   \n",
       "90                        Data Scientist          2       False   \n",
       "172                       Data Scientist          2       False   \n",
       "220                       Data Scientist          2       False   \n",
       "140                       Data Scientist          2       False   \n",
       "367                       Data Scientist          2       False   \n",
       "3                         Data Scientist          2       False   \n",
       "253                       Data Scientist          2       False   \n",
       "349                       Data Scientist          2       False   \n",
       "280                       Data Scientist          2       False   \n",
       "35                                  None          3       False   \n",
       "37   דרוש /ה Data Scientist - ללא ניסיון          3       False   \n",
       "268                       Data Scientist          3       False   \n",
       "297  דרוש /ה Data Scientist - ללא ניסיון          3       False   \n",
       "273  דרוש /ה Data Scientist - ללא ניסיון          3       False   \n",
       "295  דרוש /ה Data Scientist - ללא ניסיון          3       False   \n",
       "169                       Data Scientist          3       False   \n",
       "\n",
       "                                                   url  \\\n",
       "105  https://www.glassdoor.com/job-listing/data-sci...   \n",
       "202  https://www.glassdoor.com/job-listing/data-sci...   \n",
       "58   https://www.glassdoor.com/job-listing/data-sci...   \n",
       "318  https://www.glassdoor.com/job-listing/data-sci...   \n",
       "90   https://www.glassdoor.com/job-listing/data-sci...   \n",
       "172  https://www.glassdoor.com/job-listing/data-sci...   \n",
       "220  https://www.glassdoor.com/job-listing/data-sci...   \n",
       "140  https://www.glassdoor.com/job-listing/data-sci...   \n",
       "367  https://www.glassdoor.com/job-listing/data-sci...   \n",
       "3    https://www.glassdoor.com/job-listing/data-sci...   \n",
       "253  https://www.glassdoor.com/job-listing/data-sci...   \n",
       "349  https://www.glassdoor.com/job-listing/data-sci...   \n",
       "280  https://www.glassdoor.com/job-listing/data-sci...   \n",
       "35   https://www.glassdoor.com/job-listing/%D7%93%D...   \n",
       "37   https://www.glassdoor.com/job-listing/%D7%93%D...   \n",
       "268  https://www.glassdoor.com/job-listing/data-sci...   \n",
       "297  https://www.glassdoor.com/job-listing/%D7%93%D...   \n",
       "273  https://www.glassdoor.com/job-listing/%D7%93%D...   \n",
       "295  https://www.glassdoor.com/job-listing/%D7%93%D...   \n",
       "169  https://www.glassdoor.com/job-listing/data-sci...   \n",
       "\n",
       "                                           description  \n",
       "105  Explorium is a cutting-edge data science compa...  \n",
       "202                                                     \n",
       "58   Explorium is a cutting-edge data science compa...  \n",
       "318  Explorium is a cutting-edge data science compa...  \n",
       "90   Explorium is a cutting-edge data science compa...  \n",
       "172  Explorium is a cutting-edge data science compa...  \n",
       "220  Explorium is a cutting-edge data science compa...  \n",
       "140  Explorium is a cutting-edge data science compa...  \n",
       "367  Explorium is a cutting-edge data science compa...  \n",
       "3    Explorium is a cutting-edge data science compa...  \n",
       "253  Explorium is a cutting-edge data science compa...  \n",
       "349  Explorium is a cutting-edge data science compa...  \n",
       "280  Explorium is a cutting-edge data science compa...  \n",
       "35                                                      \n",
       "37   לחברת אבטחת מידע גדולה ומבוססת, דרוש /ה Data S...  \n",
       "268  חברת סטארט-אפ בחזית הטכנולוגיה המפתחת מערכת או...  \n",
       "297  לחברת אבטחת מידע גדולה ומבוססת, דרוש /ה Data S...  \n",
       "273  לחברת אבטחת מידע גדולה ומבוססת, דרוש /ה Data S...  \n",
       "295  לחברת אבטחת מידע גדולה ומבוססת, דרוש /ה Data S...  \n",
       "169  חברת סטארט-אפ בחזית הטכנולוגיה המפתחת מערכת או...  "
      ]
     },
     "execution_count": 119,
     "metadata": {},
     "output_type": "execute_result"
    }
   ],
   "source": [
    "df = pd.read_json(data_path).drop_duplicates(inplace=False)\n",
    "df['published'] = df['published'].apply(lambda x: int(re.match('\\d+',x)[0]))\n",
    "df = df.sort_values(by='published')\n",
    "df.head(20)"
   ]
  },
  {
   "cell_type": "code",
   "execution_count": 102,
   "metadata": {},
   "outputs": [
    {
     "name": "stdout",
     "output_type": "stream",
     "text": [
      "<class 'pandas.core.frame.DataFrame'>\n",
      "Int64Index: 119 entries, 517 to 38\n",
      "Data columns (total 5 columns):\n",
      " #   Column       Non-Null Count  Dtype \n",
      "---  ------       --------------  ----- \n",
      " 0   title        119 non-null    object\n",
      " 1   published    119 non-null    int64 \n",
      " 2   easy_apply   119 non-null    bool  \n",
      " 3   url          119 non-null    object\n",
      " 4   description  119 non-null    object\n",
      "dtypes: bool(1), int64(1), object(3)\n",
      "memory usage: 4.8+ KB\n"
     ]
    }
   ],
   "source": [
    "df.info()\n"
   ]
  },
  {
   "cell_type": "code",
   "execution_count": 103,
   "metadata": {},
   "outputs": [
    {
     "data": {
      "text/plain": [
       "(99, 6)"
      ]
     },
     "execution_count": 103,
     "metadata": {},
     "output_type": "execute_result"
    }
   ],
   "source": [
    "def detect_language(text):\n",
    "    try:\n",
    "        return detect(text)\n",
    "    except:\n",
    "        return None\n",
    "    \n",
    "df['language'] = df['description'].apply(lambda x: detect_language(x))\n",
    "df = df[df['language']=='en']\n",
    "df.shape"
   ]
  },
  {
   "cell_type": "code",
   "execution_count": 104,
   "metadata": {},
   "outputs": [
    {
     "data": {
      "text/plain": [
       "[('Data Scientist', 17),\n",
       " ('Software Engineer', 16),\n",
       " ('Machine Learning Engineer', 9),\n",
       " ('Machine Learning Software Engineer', 2),\n",
       " ('Python Developer', 2),\n",
       " ('Vulnerability Researcher', 2),\n",
       " ('Senior Researcher', 2),\n",
       " ('Applied Researcher', 1),\n",
       " ('Machine Learning/Deep Learning algorithms', 1),\n",
       " ('Internship Opportunities for Students: Data science/Researcher', 1)]"
      ]
     },
     "execution_count": 104,
     "metadata": {},
     "output_type": "execute_result"
    }
   ],
   "source": [
    "positions = Counter(df['title'])\n",
    "positions.most_common(10)"
   ]
  },
  {
   "cell_type": "code",
   "execution_count": 71,
   "metadata": {},
   "outputs": [
    {
     "data": {
      "text/plain": [
       "<BarContainer object of 58 artists>"
      ]
     },
     "execution_count": 71,
     "metadata": {},
     "output_type": "execute_result"
    },
    {
     "data": {
      "image/png": "[encoded data removed]",
      "text/plain": [
       "<Figure size 720x432 with 1 Axes>"
      ]
     },
     "metadata": {
      "needs_background": "light"
     },
     "output_type": "display_data"
    }
   ],
   "source": [
    "fig, ax = plt.subplots(figsize=(10, 6))\n",
    "ax.bar(x=list(positions.keys()),height=list(positions.values()))"
   ]
  },
  {
   "cell_type": "code",
   "execution_count": null,
   "metadata": {},
   "outputs": [],
   "source": []
  }
 ],
 "metadata": {
  "kernelspec": {
   "display_name": "Python 3",
   "language": "python",
   "name": "python3"
  },
  "language_info": {
   "codemirror_mode": {
    "name": "ipython",
    "version": 3
   },
   "file_extension": ".py",
   "mimetype": "text/x-python",
   "name": "python",
   "nbconvert_exporter": "python",
   "pygments_lexer": "ipython3",
   "version": "3.6.9"
  }
 },
 "nbformat": 4,
 "nbformat_minor": 4
}
