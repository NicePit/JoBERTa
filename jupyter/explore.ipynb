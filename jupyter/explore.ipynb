{
 "cells": [
  {
   "cell_type": "code",
   "execution_count": 155,
   "metadata": {},
   "outputs": [],
   "source": [
    "import pandas as pd\n",
    "import numpy as np\n",
    "import matplotlib.pyplot as plt\n",
    "import pathlib\n",
    "import os\n",
    "from collections import Counter\n",
    "import re\n",
    "\n",
    "%matplotlib inline"
   ]
  },
  {
   "cell_type": "code",
   "execution_count": 156,
   "metadata": {},
   "outputs": [
    {
     "name": "stdout",
     "output_type": "stream",
     "text": [
      "Defaulting to user installation because normal site-packages is not writeable\n",
      "Requirement already satisfied: langdetect in /home/stanislav/.local/lib/python3.6/site-packages (1.0.8)\n",
      "Requirement already satisfied: six in /home/stanislav/.local/lib/python3.6/site-packages (from langdetect) (1.14.0)\n",
      "\u001b[33mWARNING: You are using pip version 20.0.2; however, version 20.1 is available.\n",
      "You should consider upgrading via the '/usr/bin/python3 -m pip install --upgrade pip' command.\u001b[0m\n"
     ]
    }
   ],
   "source": [
    "!pip install langdetect\n",
    "from langdetect import detect"
   ]
  },
  {
   "cell_type": "code",
   "execution_count": 157,
   "metadata": {},
   "outputs": [
    {
     "data": {
      "text/plain": [
       "'/home/stanislav/my_projects/JoBERTa/scrapers/data.json'"
      ]
     },
     "execution_count": 157,
     "metadata": {},
     "output_type": "execute_result"
    }
   ],
   "source": [
    "data_path = '../scrapers/data.json'\n",
    "data_path = os.path.abspath(os.path.join(data_path))\n",
    "data_path"
   ]
  },
  {
   "cell_type": "code",
   "execution_count": 168,
   "metadata": {},
   "outputs": [
    {
     "data": {
      "text/plain": [
       "(345, 5)"
      ]
     },
     "execution_count": 168,
     "metadata": {},
     "output_type": "execute_result"
    }
   ],
   "source": [
    "df = pd.read_json(data_path).drop_duplicates(inplace=False,subset='url')\n",
    "df['published'] = df['published'].apply(lambda x: int(re.match('\\d+',x)[0]))\n",
    "df = df.sort_values(by='published')\n",
    "df.shape"
   ]
  },
  {
   "cell_type": "code",
   "execution_count": 169,
   "metadata": {},
   "outputs": [
    {
     "data": {
      "text/html": [
       "<div>\n",
       "<style scoped>\n",
       "    .dataframe tbody tr th:only-of-type {\n",
       "        vertical-align: middle;\n",
       "    }\n",
       "\n",
       "    .dataframe tbody tr th {\n",
       "        vertical-align: top;\n",
       "    }\n",
       "\n",
       "    .dataframe thead th {\n",
       "        text-align: right;\n",
       "    }\n",
       "</style>\n",
       "<table border=\"1\" class=\"dataframe\">\n",
       "  <thead>\n",
       "    <tr style=\"text-align: right;\">\n",
       "      <th></th>\n",
       "      <th>title</th>\n",
       "      <th>published</th>\n",
       "      <th>easy_apply</th>\n",
       "      <th>url</th>\n",
       "      <th>description</th>\n",
       "    </tr>\n",
       "  </thead>\n",
       "  <tbody>\n",
       "    <tr>\n",
       "      <th>187</th>\n",
       "      <td>Data Analyst</td>\n",
       "      <td>1</td>\n",
       "      <td>False</td>\n",
       "      <td>https://www.glassdoor.com/job-listing/data-ana...</td>\n",
       "      <td>A well-funded &amp; successful startup that has de...</td>\n",
       "    </tr>\n",
       "    <tr>\n",
       "      <th>79</th>\n",
       "      <td>Data Product Scientist לחברת סטארטאפ בתל אביב</td>\n",
       "      <td>1</td>\n",
       "      <td>False</td>\n",
       "      <td>https://www.glassdoor.com/job-listing/data-pro...</td>\n",
       "      <td>מיקום: ת\"א והמרכז\\n\\nתיאור המשרה:\\n\\nדרוש/ה Da...</td>\n",
       "    </tr>\n",
       "    <tr>\n",
       "      <th>80</th>\n",
       "      <td>Senior Data Scientist לחברת פינטק מובילה</td>\n",
       "      <td>1</td>\n",
       "      <td>False</td>\n",
       "      <td>https://www.glassdoor.com/job-listing/senior-d...</td>\n",
       "      <td>מיקום: ת\"א והמרכז\\n\\nתיאור המשרה:\\nאחד מהסטארט...</td>\n",
       "    </tr>\n",
       "    <tr>\n",
       "      <th>251</th>\n",
       "      <td>Senior Data Science</td>\n",
       "      <td>1</td>\n",
       "      <td>False</td>\n",
       "      <td>https://www.glassdoor.com/job-listing/senior-d...</td>\n",
       "      <td>מיקום: ת\"א והמרכז\\n\\nתיאור המשרה:\\n\\nלכל ה-Dat...</td>\n",
       "    </tr>\n",
       "    <tr>\n",
       "      <th>96</th>\n",
       "      <td>Machine Learning Engineer</td>\n",
       "      <td>1</td>\n",
       "      <td>False</td>\n",
       "      <td>https://www.glassdoor.com/job-listing/machine-...</td>\n",
       "      <td>Sarona Campus, TLV | Engineering | Full-time\\n...</td>\n",
       "    </tr>\n",
       "    <tr>\n",
       "      <th>117</th>\n",
       "      <td>Senior Data Scientist</td>\n",
       "      <td>1</td>\n",
       "      <td>False</td>\n",
       "      <td>https://www.glassdoor.com/job-listing/senior-d...</td>\n",
       "      <td>What's the job?We are looking for an outstandi...</td>\n",
       "    </tr>\n",
       "    <tr>\n",
       "      <th>93</th>\n",
       "      <td>Data Engineer</td>\n",
       "      <td>1</td>\n",
       "      <td>False</td>\n",
       "      <td>https://www.glassdoor.com/job-listing/data-eng...</td>\n",
       "      <td>Moon Active is one of the world's fastest-grow...</td>\n",
       "    </tr>\n",
       "    <tr>\n",
       "      <th>233</th>\n",
       "      <td>Senior Data analyst לחברה מצליחה העוסקת בתחום ...</td>\n",
       "      <td>1</td>\n",
       "      <td>False</td>\n",
       "      <td>https://www.glassdoor.com/job-listing/senior-d...</td>\n",
       "      <td>מיקום: ת\"א והמרכז\\n\\nתיאור המשרה:\\n\\nאנו מחפשי...</td>\n",
       "    </tr>\n",
       "    <tr>\n",
       "      <th>130</th>\n",
       "      <td>Intern - Decision Scientist</td>\n",
       "      <td>1</td>\n",
       "      <td>False</td>\n",
       "      <td>https://www.glassdoor.com/job-listing/intern-d...</td>\n",
       "      <td>What does Success Look Like?\\n\\nAs an intern, ...</td>\n",
       "    </tr>\n",
       "    <tr>\n",
       "      <th>163</th>\n",
       "      <td>Data Scientist / Machine Learning Expert</td>\n",
       "      <td>1</td>\n",
       "      <td>False</td>\n",
       "      <td>https://www.glassdoor.com/job-listing/data-sci...</td>\n",
       "      <td>Job Description:\\n\\nFor a software company wit...</td>\n",
       "    </tr>\n",
       "  </tbody>\n",
       "</table>\n",
       "</div>"
      ],
      "text/plain": [
       "                                                 title  published  easy_apply  \\\n",
       "187                                       Data Analyst          1       False   \n",
       "79       Data Product Scientist לחברת סטארטאפ בתל אביב          1       False   \n",
       "80            Senior Data Scientist לחברת פינטק מובילה          1       False   \n",
       "251                                Senior Data Science          1       False   \n",
       "96                           Machine Learning Engineer          1       False   \n",
       "117                              Senior Data Scientist          1       False   \n",
       "93                                       Data Engineer          1       False   \n",
       "233  Senior Data analyst לחברה מצליחה העוסקת בתחום ...          1       False   \n",
       "130                        Intern - Decision Scientist          1       False   \n",
       "163           Data Scientist / Machine Learning Expert          1       False   \n",
       "\n",
       "                                                   url  \\\n",
       "187  https://www.glassdoor.com/job-listing/data-ana...   \n",
       "79   https://www.glassdoor.com/job-listing/data-pro...   \n",
       "80   https://www.glassdoor.com/job-listing/senior-d...   \n",
       "251  https://www.glassdoor.com/job-listing/senior-d...   \n",
       "96   https://www.glassdoor.com/job-listing/machine-...   \n",
       "117  https://www.glassdoor.com/job-listing/senior-d...   \n",
       "93   https://www.glassdoor.com/job-listing/data-eng...   \n",
       "233  https://www.glassdoor.com/job-listing/senior-d...   \n",
       "130  https://www.glassdoor.com/job-listing/intern-d...   \n",
       "163  https://www.glassdoor.com/job-listing/data-sci...   \n",
       "\n",
       "                                           description  \n",
       "187  A well-funded & successful startup that has de...  \n",
       "79   מיקום: ת\"א והמרכז\\n\\nתיאור המשרה:\\n\\nדרוש/ה Da...  \n",
       "80   מיקום: ת\"א והמרכז\\n\\nתיאור המשרה:\\nאחד מהסטארט...  \n",
       "251  מיקום: ת\"א והמרכז\\n\\nתיאור המשרה:\\n\\nלכל ה-Dat...  \n",
       "96   Sarona Campus, TLV | Engineering | Full-time\\n...  \n",
       "117  What's the job?We are looking for an outstandi...  \n",
       "93   Moon Active is one of the world's fastest-grow...  \n",
       "233  מיקום: ת\"א והמרכז\\n\\nתיאור המשרה:\\n\\nאנו מחפשי...  \n",
       "130  What does Success Look Like?\\n\\nAs an intern, ...  \n",
       "163  Job Description:\\n\\nFor a software company wit...  "
      ]
     },
     "execution_count": 169,
     "metadata": {},
     "output_type": "execute_result"
    }
   ],
   "source": [
    "df.head(10)"
   ]
  },
  {
   "cell_type": "code",
   "execution_count": 170,
   "metadata": {},
   "outputs": [
    {
     "name": "stdout",
     "output_type": "stream",
     "text": [
      "<class 'pandas.core.frame.DataFrame'>\n",
      "Int64Index: 345 entries, 187 to 228\n",
      "Data columns (total 5 columns):\n",
      " #   Column       Non-Null Count  Dtype \n",
      "---  ------       --------------  ----- \n",
      " 0   title        339 non-null    object\n",
      " 1   published    345 non-null    int64 \n",
      " 2   easy_apply   345 non-null    bool  \n",
      " 3   url          345 non-null    object\n",
      " 4   description  345 non-null    object\n",
      "dtypes: bool(1), int64(1), object(3)\n",
      "memory usage: 13.8+ KB\n"
     ]
    }
   ],
   "source": [
    "df.info()\n"
   ]
  },
  {
   "cell_type": "code",
   "execution_count": 171,
   "metadata": {},
   "outputs": [
    {
     "data": {
      "text/plain": [
       "(213, 6)"
      ]
     },
     "execution_count": 171,
     "metadata": {},
     "output_type": "execute_result"
    }
   ],
   "source": [
    "def detect_language(text):\n",
    "    try:\n",
    "        return detect(text)\n",
    "    except:\n",
    "        return None\n",
    "    \n",
    "df['language'] = df['description'].apply(lambda x: detect_language(x))\n",
    "df = df[df['language']=='en']\n",
    "df.shape"
   ]
  },
  {
   "cell_type": "code",
   "execution_count": 174,
   "metadata": {},
   "outputs": [
    {
     "data": {
      "text/plain": [
       "[('Data Scientist', 45),\n",
       " ('Data Engineer', 22),\n",
       " ('Data Analyst', 16),\n",
       " ('Machine Learning Engineer', 11),\n",
       " ('Senior Data Scientist', 11),\n",
       " ('Data Engineer Team Leader', 5),\n",
       " ('Senior Big Data Engineer', 5),\n",
       " ('Lead Data Scientist', 4),\n",
       " ('Big Data Engineer', 3),\n",
       " ('Senior Applied Scientist, Alexa Shopping', 2),\n",
       " ('Marketing Data Analyst', 2),\n",
       " ('Cyber Data Scientist', 2),\n",
       " ('Senior Data analyst', 2),\n",
       " ('Quantitative Researcher', 2),\n",
       " ('Senior Data Analyst', 2),\n",
       " ('Lead Big Data Engineer', 2),\n",
       " ('Senior Data Infrastructure Engineer', 2),\n",
       " ('Applied Scientist - Alexa Shopping', 2),\n",
       " ('Data Science Team Lead', 2),\n",
       " ('Intern - Decision Scientist', 1),\n",
       " ('Data Scientist / Machine Learning Expert', 1),\n",
       " ('Senior Data Engineer (Tel-Aviv)', 1),\n",
       " ('Product Manager, Data & Analytics - TLV', 1),\n",
       " ('Internship Opportunities for Students: Data science/Researcher', 1),\n",
       " ('Data Engineer!', 1),\n",
       " ('Senior Product Manager - Data Science', 1),\n",
       " ('Data Engineer / DBA', 1),\n",
       " ('Senior Business/Data analyst', 1),\n",
       " ('Big Data Engineer (Java)', 1),\n",
       " ('Cloud Data Infrastructure Engineer', 1)]"
      ]
     },
     "execution_count": 174,
     "metadata": {},
     "output_type": "execute_result"
    }
   ],
   "source": [
    "MOST_COMMON = 30\n",
    "\n",
    "positions = Counter(df['title'])\n",
    "positions.most_common(MOST_COMMON)"
   ]
  },
  {
   "cell_type": "code",
   "execution_count": 173,
   "metadata": {},
   "outputs": [
    {
     "data": {
      "text/plain": [
       "([0, 1, 2, 3, 4, 5, 6, 7, 8, 9, 10, 11, 12, 13, 14, 15, 16, 17, 18, 19],\n",
       " <a list of 20 Text xticklabel objects>)"
      ]
     },
     "execution_count": 173,
     "metadata": {},
     "output_type": "execute_result"
    },
    {
     "data": {
      "image/png": "[encoded data removed]",
      "text/plain": [
       "<Figure size 720x432 with 1 Axes>"
      ]
     },
     "metadata": {
      "needs_background": "light"
     },
     "output_type": "display_data"
    }
   ],
   "source": [
    "fig, ax = plt.subplots(figsize=(10, 6))\n",
    "ax.bar(x=[_[0] for _ in positions.most_common(MOST_COMMON)],height=[_[1] for _ in positions.most_common(MOST_COMMON)])\n",
    "plt.xticks(rotation=70)"
   ]
  },
  {
   "cell_type": "code",
   "execution_count": null,
   "metadata": {},
   "outputs": [],
   "source": []
  }
 ],
 "metadata": {
  "kernelspec": {
   "display_name": "Python 3",
   "language": "python",
   "name": "python3"
  },
  "language_info": {
   "codemirror_mode": {
    "name": "ipython",
    "version": 3
   },
   "file_extension": ".py",
   "mimetype": "text/x-python",
   "name": "python",
   "nbconvert_exporter": "python",
   "pygments_lexer": "ipython3",
   "version": "3.6.9"
  }
 },
 "nbformat": 4,
 "nbformat_minor": 4
}
